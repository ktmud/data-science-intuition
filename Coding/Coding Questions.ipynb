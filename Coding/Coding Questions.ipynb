{
 "cells": [
  {
   "cell_type": "markdown",
   "metadata": {},
   "source": [
    "## Write a function to return one of (\"a\", \"b\", \"c\") with equal probabilities (33.33%)"
   ]
  },
  {
   "cell_type": "code",
   "execution_count": 20,
   "metadata": {},
   "outputs": [
    {
     "data": {
      "text/plain": [
       "{'a': 4963, 'c': 2512, 'b': 2525}"
      ]
     },
     "execution_count": 20,
     "metadata": {},
     "output_type": "execute_result"
    }
   ],
   "source": [
    "import random\n",
    "\n",
    "def random_choice(choices, probs):\n",
    "    k = len(choices)\n",
    "    i = 0\n",
    "    total = 1  # total remaining event space\n",
    "    while i < k - 1:\n",
    "        p = probs[i]\n",
    "        if random.random() * total < p:\n",
    "            return choices[i]\n",
    "        total = 1 - p\n",
    "        i += 1\n",
    "    return choices[i]\n",
    "\n",
    "samples = [random_choice('abc', [0.5, 0.25, 0.25]) for _ in range(10000)]\n",
    "\n",
    "counts = {}\n",
    "for x in samples:\n",
    "    if x not in counts:\n",
    "        counts[x] = 1\n",
    "    else:\n",
    "        counts[x] += 1\n",
    "counts"
   ]
  }
 ],
 "metadata": {
  "kernelspec": {
   "display_name": "Python 3",
   "language": "python",
   "name": "python3"
  },
  "language_info": {
   "codemirror_mode": {
    "name": "ipython",
    "version": 3
   },
   "file_extension": ".py",
   "mimetype": "text/x-python",
   "name": "python",
   "nbconvert_exporter": "python",
   "pygments_lexer": "ipython3",
   "version": "3.7.0"
  }
 },
 "nbformat": 4,
 "nbformat_minor": 2
}
